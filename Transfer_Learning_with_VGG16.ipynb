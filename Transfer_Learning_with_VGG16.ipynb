{
 "cells": [
  {
   "cell_type": "markdown",
   "id": "98e943f4",
   "metadata": {},
   "source": [
    "### Dataset Link: https://www.kaggle.com/datasets/janmejaybhoi/cotton-disease-dataset"
   ]
  },
  {
   "cell_type": "code",
   "execution_count": null,
   "id": "3381c660",
   "metadata": {},
   "outputs": [],
   "source": [
    "from tensorflow.keras.layers import Input, Lambda, Dense, Flatten\n",
    "from tensorflow.keras.models import Model\n",
    "from tensorflow.keras.applications.vgg16 import VGG16\n",
    "from tensorflow.keras.applications.vgg19 import VGG19\n",
    "from tensorflow.keras.preprocessing import image\n",
    "from tensorflow.keras.preprocessing.image import ImageDataGenerator,load_img\n",
    "from tensorflow.keras.models import Sequential\n",
    "import numpy as np\n",
    "from glob import glob"
   ]
  },
  {
   "cell_type": "code",
   "execution_count": 2,
   "id": "b6347c21",
   "metadata": {},
   "outputs": [],
   "source": [
    "IMAGE_SIZE = [224,224]\n",
    "train_path = 'Cotton Disease/train'\n",
    "valid_path = 'Cotton Disease/test'"
   ]
  },
  {
   "cell_type": "code",
   "execution_count": 3,
   "id": "baab466e",
   "metadata": {},
   "outputs": [],
   "source": [
    "# Import the VGG16 library as shown below and add preprocessing layer to the front of VGG\n",
    "# Here we will be using imagenet weights\n",
    "\n",
    "vgg16 = VGG16(input_shape=IMAGE_SIZE + [3], weights='imagenet', include_top=False)"
   ]
  },
  {
   "cell_type": "code",
   "execution_count": 4,
   "id": "e4a18eb5",
   "metadata": {},
   "outputs": [],
   "source": [
    "# don't train existing weights\n",
    "for layer in vgg16.layers:\n",
    "    layer.trainable = False"
   ]
  },
  {
   "cell_type": "code",
   "execution_count": 5,
   "id": "d4e962ac",
   "metadata": {},
   "outputs": [],
   "source": [
    "# useful for getting number of output classes\n",
    "folders = glob(\"Cotton Disease/train/*\")"
   ]
  },
  {
   "cell_type": "code",
   "execution_count": 6,
   "id": "a62f950d",
   "metadata": {},
   "outputs": [
    {
     "data": {
      "text/plain": [
       "['Cotton Disease/train\\\\diseased cotton leaf',\n",
       " 'Cotton Disease/train\\\\diseased cotton plant',\n",
       " 'Cotton Disease/train\\\\fresh cotton leaf',\n",
       " 'Cotton Disease/train\\\\fresh cotton plant']"
      ]
     },
     "execution_count": 6,
     "metadata": {},
     "output_type": "execute_result"
    }
   ],
   "source": [
    "folders"
   ]
  },
  {
   "cell_type": "code",
   "execution_count": 7,
   "id": "00b387af",
   "metadata": {},
   "outputs": [],
   "source": [
    "x = (vgg16.output)Flatten()"
   ]
  },
  {
   "cell_type": "code",
   "execution_count": 8,
   "id": "62b94a4f",
   "metadata": {},
   "outputs": [],
   "source": [
    "prediction = Dense(len(folders), activation=\"softmax\")(x)"
   ]
  },
  {
   "cell_type": "code",
   "execution_count": 9,
   "id": "fc250ddf",
   "metadata": {},
   "outputs": [],
   "source": [
    "# create a model object\n",
    "model = Model(inputs=vgg16.input, outputs=prediction)"
   ]
  },
  {
   "cell_type": "code",
   "execution_count": 10,
   "id": "29277cbf",
   "metadata": {},
   "outputs": [
    {
     "name": "stdout",
     "output_type": "stream",
     "text": [
      "Model: \"model\"\n",
      "_________________________________________________________________\n",
      " Layer (type)                Output Shape              Param #   \n",
      "=================================================================\n",
      " input_1 (InputLayer)        [(None, 224, 224, 3)]     0         \n",
      "                                                                 \n",
      " block1_conv1 (Conv2D)       (None, 224, 224, 64)      1792      \n",
      "                                                                 \n",
      " block1_conv2 (Conv2D)       (None, 224, 224, 64)      36928     \n",
      "                                                                 \n",
      " block1_pool (MaxPooling2D)  (None, 112, 112, 64)      0         \n",
      "                                                                 \n",
      " block2_conv1 (Conv2D)       (None, 112, 112, 128)     73856     \n",
      "                                                                 \n",
      " block2_conv2 (Conv2D)       (None, 112, 112, 128)     147584    \n",
      "                                                                 \n",
      " block2_pool (MaxPooling2D)  (None, 56, 56, 128)       0         \n",
      "                                                                 \n",
      " block3_conv1 (Conv2D)       (None, 56, 56, 256)       295168    \n",
      "                                                                 \n",
      " block3_conv2 (Conv2D)       (None, 56, 56, 256)       590080    \n",
      "                                                                 \n",
      " block3_conv3 (Conv2D)       (None, 56, 56, 256)       590080    \n",
      "                                                                 \n",
      " block3_pool (MaxPooling2D)  (None, 28, 28, 256)       0         \n",
      "                                                                 \n",
      " block4_conv1 (Conv2D)       (None, 28, 28, 512)       1180160   \n",
      "                                                                 \n",
      " block4_conv2 (Conv2D)       (None, 28, 28, 512)       2359808   \n",
      "                                                                 \n",
      " block4_conv3 (Conv2D)       (None, 28, 28, 512)       2359808   \n",
      "                                                                 \n",
      " block4_pool (MaxPooling2D)  (None, 14, 14, 512)       0         \n",
      "                                                                 \n",
      " block5_conv1 (Conv2D)       (None, 14, 14, 512)       2359808   \n",
      "                                                                 \n",
      " block5_conv2 (Conv2D)       (None, 14, 14, 512)       2359808   \n",
      "                                                                 \n",
      " block5_conv3 (Conv2D)       (None, 14, 14, 512)       2359808   \n",
      "                                                                 \n",
      " block5_pool (MaxPooling2D)  (None, 7, 7, 512)         0         \n",
      "                                                                 \n",
      " flatten (Flatten)           (None, 25088)             0         \n",
      "                                                                 \n",
      " dense (Dense)               (None, 4)                 100356    \n",
      "                                                                 \n",
      "=================================================================\n",
      "Total params: 14,815,044\n",
      "Trainable params: 100,356\n",
      "Non-trainable params: 14,714,688\n",
      "_________________________________________________________________\n"
     ]
    }
   ],
   "source": [
    "model.summary()"
   ]
  },
  {
   "cell_type": "code",
   "execution_count": 11,
   "id": "8126f2a5",
   "metadata": {},
   "outputs": [],
   "source": [
    "model.compile(loss='categorical_crossentropy',\n",
    "             optimizer = 'adam',\n",
    "             metrics = ['accuracy'])"
   ]
  },
  {
   "cell_type": "code",
   "execution_count": 12,
   "id": "f71f3a20",
   "metadata": {},
   "outputs": [],
   "source": [
    "# Use the ImageDataGenerator to import the images from the dataset\n",
    "train_datagen = ImageDataGenerator(rescale = 1./255,\n",
    "                                  shear_range = 0.2,\n",
    "                                  zoom_range = 0.2,\n",
    "                                  horizontal_flip = True)\n",
    "test_datagen = ImageDataGenerator(rescale = 1./255)"
   ]
  },
  {
   "cell_type": "code",
   "execution_count": 13,
   "id": "b75df321",
   "metadata": {},
   "outputs": [
    {
     "name": "stdout",
     "output_type": "stream",
     "text": [
      "Found 1951 images belonging to 4 classes.\n"
     ]
    }
   ],
   "source": [
    "training_set = train_datagen.flow_from_directory('Cotton Disease/train',\n",
    "                                                target_size = (224,224),\n",
    "                                                batch_size = 32,\n",
    "                                                class_mode = 'categorical')"
   ]
  },
  {
   "cell_type": "code",
   "execution_count": 14,
   "id": "0dec5f54",
   "metadata": {},
   "outputs": [
    {
     "name": "stdout",
     "output_type": "stream",
     "text": [
      "Found 106 images belonging to 4 classes.\n"
     ]
    }
   ],
   "source": [
    "test_set = test_datagen.flow_from_directory('Cotton Disease/test',\n",
    "                                                target_size = (224,224),\n",
    "                                                batch_size = 32,\n",
    "                                                class_mode = 'categorical')"
   ]
  },
  {
   "cell_type": "code",
   "execution_count": 15,
   "id": "d711ef12",
   "metadata": {},
   "outputs": [
    {
     "name": "stderr",
     "output_type": "stream",
     "text": [
      "<ipython-input-15-b58eca3990e1>:1: UserWarning: `Model.fit_generator` is deprecated and will be removed in a future version. Please use `Model.fit`, which supports generators.\n",
      "  r = model.fit_generator(training_set,\n"
     ]
    },
    {
     "name": "stdout",
     "output_type": "stream",
     "text": [
      "Epoch 1/2\n",
      "61/61 [==============================] - 734s 12s/step - loss: 0.6829 - accuracy: 0.7278 - val_loss: 0.3848 - val_accuracy: 0.8396\n",
      "Epoch 2/2\n",
      "61/61 [==============================] - 850s 14s/step - loss: 0.2370 - accuracy: 0.9118 - val_loss: 0.2594 - val_accuracy: 0.8868\n"
     ]
    }
   ],
   "source": [
    "r = model.fit_generator(training_set,\n",
    "                       validation_data = test_set,\n",
    "                       epochs=2,\n",
    "                       steps_per_epoch=len(training_set),\n",
    "                       validation_steps=len(test_set))"
   ]
  },
  {
   "cell_type": "code",
   "execution_count": 16,
   "id": "d56b65ba",
   "metadata": {},
   "outputs": [
    {
     "data": {
      "image/png": "[encoded data removed]",
      "text/plain": [
       "<Figure size 432x288 with 1 Axes>"
      ]
     },
     "metadata": {
      "needs_background": "light"
     },
     "output_type": "display_data"
    },
    {
     "data": {
      "image/png": "[encoded data removed]",
      "text/plain": [
       "<Figure size 432x288 with 1 Axes>"
      ]
     },
     "metadata": {
      "needs_background": "light"
     },
     "output_type": "display_data"
    }
   ],
   "source": [
    "import matplotlib.pyplot as plt\n",
    "plt.plot(r.history['loss'], label='train loss')\n",
    "plt.plot(r.history['val_loss'], label = 'val loss')\n",
    "plt.legend()\n",
    "plt.show()\n",
    "#plot.savefig('LossVal_loss')\n",
    "\n",
    "# plot the accuracy\n",
    "plt.plot(r.history['accuracy'], label='train acc')\n",
    "plt.plot(r.history['val_accuracy'],label='val acc')\n",
    "plt.legend()\n",
    "plt.show()\n",
    "#plt.savefig('AccVal_acc')"
   ]
  },
  {
   "cell_type": "code",
   "execution_count": 17,
   "id": "62a900a0",
   "metadata": {},
   "outputs": [],
   "source": [
    "# save it as a h5 file\n",
    "\n",
    "\n",
    "from tensorflow.keras.models import load_model\n",
    "\n",
    "model.save('model_vgg16.h5')"
   ]
  },
  {
   "cell_type": "code",
   "execution_count": 18,
   "id": "e18fcea6",
   "metadata": {},
   "outputs": [],
   "source": [
    "y_pred = model.predict(test_set)"
   ]
  },
  {
   "cell_type": "code",
   "execution_count": 19,
   "id": "ba5753b3",
   "metadata": {},
   "outputs": [
    {
     "data": {
      "text/plain": [
       "array([[5.19013181e-02, 2.35461488e-01, 6.99934363e-01, 1.27027184e-02],\n",
       "       [5.67737594e-03, 6.51323259e-01, 4.00217221e-04, 3.42599124e-01],\n",
       "       [3.53746093e-03, 7.53441546e-03, 1.97052513e-03, 9.86957669e-01],\n",
       "       [1.81000680e-01, 2.19779540e-04, 8.17544401e-01, 1.23515516e-03],\n",
       "       [9.61729020e-05, 2.94608569e-08, 9.99903679e-01, 1.03148693e-07],\n",
       "       [1.49524378e-04, 1.53598161e-02, 4.77929413e-03, 9.79711354e-01],\n",
       "       [9.88269225e-04, 2.91442368e-02, 1.90691091e-03, 9.67960596e-01],\n",
       "       [2.17216499e-02, 7.81909603e-06, 9.78034735e-01, 2.35753221e-04],\n",
       "       [3.37111764e-04, 1.12342043e-02, 8.17495893e-05, 9.88346994e-01],\n",
       "       [9.94559348e-01, 9.54094168e-04, 4.46135644e-03, 2.52332156e-05],\n",
       "       [9.64256283e-03, 7.37088919e-03, 9.25654709e-01, 5.73318303e-02],\n",
       "       [9.96212125e-01, 2.42998154e-04, 1.29684247e-03, 2.24810187e-03],\n",
       "       [7.70234255e-05, 1.90034714e-02, 3.80721845e-04, 9.80538726e-01],\n",
       "       [8.82730544e-01, 9.10431445e-02, 4.95252665e-04, 2.57310458e-02],\n",
       "       [6.50946866e-04, 2.98173189e-01, 4.37352573e-04, 7.00738490e-01],\n",
       "       [1.85223325e-05, 1.00049411e-03, 4.17265301e-06, 9.98976827e-01],\n",
       "       [9.99590099e-01, 3.31098767e-04, 4.18148084e-05, 3.69450354e-05],\n",
       "       [1.50861975e-03, 4.02271926e-01, 6.81624329e-03, 5.89403272e-01],\n",
       "       [8.34797043e-04, 9.40567493e-01, 1.03486248e-03, 5.75628877e-02],\n",
       "       [2.55993884e-02, 1.10870282e-07, 9.74400163e-01, 3.19524673e-07],\n",
       "       [1.13907918e-04, 1.66873299e-02, 4.51445412e-05, 9.83153641e-01],\n",
       "       [2.52506174e-02, 1.47718778e-02, 9.69017949e-03, 9.50287282e-01],\n",
       "       [7.32199848e-03, 2.07100584e-05, 9.92577612e-01, 7.96429740e-05],\n",
       "       [1.58745155e-03, 5.90555847e-01, 7.35296169e-04, 4.07121390e-01],\n",
       "       [1.46655628e-04, 9.38853920e-01, 1.09275163e-04, 6.08901493e-02],\n",
       "       [1.11251604e-03, 1.96731482e-02, 7.02786539e-03, 9.72186446e-01],\n",
       "       [2.59941648e-04, 1.59430012e-01, 4.58268449e-04, 8.39851737e-01],\n",
       "       [4.72898642e-03, 4.87934858e-01, 2.34900066e-03, 5.04987180e-01],\n",
       "       [9.00968444e-05, 1.90314200e-08, 9.99909759e-01, 7.89471599e-08],\n",
       "       [1.58351520e-03, 9.28750753e-01, 6.25649176e-04, 6.90401569e-02],\n",
       "       [5.47113538e-01, 5.02959080e-03, 2.22115278e-01, 2.25741595e-01],\n",
       "       [9.94739234e-01, 5.90370400e-05, 5.19090891e-03, 1.08273289e-05],\n",
       "       [9.91369069e-01, 1.29452616e-03, 6.26837648e-03, 1.06801477e-03],\n",
       "       [7.86847144e-04, 5.06953970e-02, 6.56703487e-04, 9.47861135e-01],\n",
       "       [5.57994068e-01, 6.71472226e-05, 4.41850811e-01, 8.79109430e-05],\n",
       "       [8.71367884e-05, 2.85507063e-03, 3.58937905e-06, 9.97054219e-01],\n",
       "       [9.81668927e-05, 1.09849591e-03, 4.89211880e-06, 9.98798370e-01],\n",
       "       [9.99119818e-01, 4.56585025e-04, 3.50919407e-04, 7.27239094e-05],\n",
       "       [2.40760058e-01, 2.31492072e-02, 7.28705645e-01, 7.38504343e-03],\n",
       "       [5.91857592e-03, 8.71224271e-04, 9.85784709e-01, 7.42544048e-03],\n",
       "       [5.94429951e-03, 2.85519753e-03, 9.03417587e-01, 8.77829641e-02],\n",
       "       [1.26165124e-02, 7.88051367e-01, 1.75768277e-03, 1.97574481e-01],\n",
       "       [9.99429643e-01, 7.71371851e-05, 1.96643348e-04, 2.96539161e-04],\n",
       "       [4.77363501e-05, 1.97303272e-03, 5.14428364e-04, 9.97464776e-01],\n",
       "       [6.54066145e-01, 2.43459363e-04, 3.44828337e-01, 8.62110464e-04],\n",
       "       [1.43886218e-03, 3.30531090e-01, 5.79900399e-04, 6.67450190e-01],\n",
       "       [1.08252568e-02, 4.42514465e-06, 9.89151478e-01, 1.87968672e-05],\n",
       "       [1.12349296e-03, 8.20049942e-01, 2.45514908e-03, 1.76371500e-01],\n",
       "       [2.60848959e-04, 6.70294166e-02, 4.81417046e-05, 9.32661533e-01],\n",
       "       [9.04665709e-01, 8.30751145e-04, 3.17282341e-02, 6.27753586e-02],\n",
       "       [9.92920458e-01, 6.82375045e-04, 6.35724189e-03, 3.99000492e-05],\n",
       "       [3.62721854e-03, 3.15828540e-04, 9.65801060e-01, 3.02558094e-02],\n",
       "       [9.64256283e-03, 7.37088919e-03, 9.25654709e-01, 5.73318303e-02],\n",
       "       [1.51935301e-03, 5.31409660e-06, 9.98475015e-01, 2.60921468e-07],\n",
       "       [9.94949698e-01, 5.86899914e-05, 4.83608944e-03, 1.55490095e-04],\n",
       "       [7.22218014e-04, 9.34955239e-01, 1.93484040e-04, 6.41290843e-02],\n",
       "       [2.15325821e-02, 2.81949202e-03, 9.48593557e-01, 2.70544514e-02],\n",
       "       [3.47991700e-05, 2.90591619e-03, 4.58037539e-05, 9.97013450e-01],\n",
       "       [3.51401325e-03, 4.30255830e-01, 4.01332800e-04, 5.65828860e-01],\n",
       "       [1.66337122e-03, 1.39752015e-01, 1.37833762e-04, 8.58446777e-01],\n",
       "       [1.18756089e-02, 6.31711399e-03, 7.96608984e-01, 1.85198277e-01],\n",
       "       [5.46289563e-01, 7.64870085e-04, 4.52686131e-01, 2.59426888e-04],\n",
       "       [2.41839356e-04, 8.63387823e-01, 1.19610013e-05, 1.36358336e-01],\n",
       "       [1.15577593e-01, 5.50356925e-01, 2.72630006e-02, 3.06802481e-01],\n",
       "       [1.34266329e-05, 3.06672300e-05, 2.16985318e-05, 9.99934196e-01],\n",
       "       [1.28634414e-03, 9.64006841e-01, 1.77608206e-04, 3.45292278e-02],\n",
       "       [9.06334043e-01, 1.94631648e-04, 8.59356076e-02, 7.53579242e-03],\n",
       "       [4.94989683e-04, 8.50498796e-01, 2.50979909e-04, 1.48755237e-01],\n",
       "       [5.49069548e-04, 7.12404251e-01, 3.98088101e-04, 2.86648601e-01],\n",
       "       [9.03731942e-01, 1.58738199e-04, 9.53915343e-02, 7.17812567e-04],\n",
       "       [6.12099015e-04, 1.01703945e-05, 9.99266207e-01, 1.11607667e-04],\n",
       "       [3.11964250e-05, 1.70548987e-02, 3.93272694e-06, 9.82909977e-01],\n",
       "       [1.38994073e-03, 4.65616405e-01, 5.79996547e-03, 5.27193666e-01],\n",
       "       [1.44652207e-04, 2.39544176e-02, 4.45041427e-04, 9.75455940e-01],\n",
       "       [2.37960521e-05, 5.72110235e-04, 8.43797025e-05, 9.99319792e-01],\n",
       "       [9.83724236e-01, 7.37495866e-05, 1.58187859e-02, 3.83193750e-04],\n",
       "       [9.46827412e-01, 1.64074115e-02, 2.75151618e-02, 9.25000850e-03],\n",
       "       [1.09695888e-04, 2.91083218e-03, 2.38506065e-04, 9.96740997e-01],\n",
       "       [1.15041353e-03, 9.19476867e-01, 4.95827553e-05, 7.93231055e-02],\n",
       "       [9.98654127e-01, 1.26840989e-03, 6.27354748e-05, 1.46785842e-05],\n",
       "       [9.02490139e-01, 8.34889361e-04, 9.65465754e-02, 1.28375556e-04],\n",
       "       [1.06284651e-03, 4.20425886e-06, 9.98916268e-01, 1.67241742e-05],\n",
       "       [8.75909161e-03, 2.05090945e-03, 9.88842010e-01, 3.47952562e-04],\n",
       "       [1.12933643e-01, 7.64785000e-06, 8.87053370e-01, 5.33170805e-06],\n",
       "       [5.37666818e-03, 1.78627521e-02, 8.12412679e-01, 1.64347842e-01],\n",
       "       [6.49586436e-05, 2.04847963e-03, 1.65230922e-05, 9.97869968e-01],\n",
       "       [8.68303031e-02, 4.37913137e-03, 8.12689126e-01, 9.61014330e-02],\n",
       "       [9.92311418e-01, 1.51892856e-03, 5.65852970e-03, 5.11127757e-04],\n",
       "       [1.87984173e-04, 8.78235459e-01, 3.93029128e-04, 1.21183574e-01],\n",
       "       [1.39543554e-04, 1.47304609e-02, 7.64449942e-06, 9.85122442e-01],\n",
       "       [6.51900470e-03, 1.92599546e-04, 9.92757261e-01, 5.31239959e-04],\n",
       "       [1.12016487e-03, 4.50941995e-02, 1.48567662e-03, 9.52300012e-01],\n",
       "       [2.98554660e-05, 3.61019745e-04, 4.47664606e-05, 9.99564350e-01],\n",
       "       [9.42549319e-04, 8.34157407e-01, 2.48828856e-03, 1.62411734e-01],\n",
       "       [4.53338034e-05, 1.43497146e-03, 1.37279683e-04, 9.98382449e-01],\n",
       "       [5.11971943e-04, 9.95291591e-01, 1.50600739e-04, 4.04584315e-03],\n",
       "       [1.50541787e-03, 8.86272967e-01, 1.22836104e-06, 1.12220496e-01],\n",
       "       [2.53610872e-02, 1.96722778e-03, 9.56066310e-01, 1.66053716e-02],\n",
       "       [1.05519360e-03, 9.37335670e-01, 8.15060863e-04, 6.07939996e-02],\n",
       "       [1.79691613e-03, 1.44792078e-02, 1.15288133e-02, 9.72195148e-01],\n",
       "       [9.42234998e-04, 3.68988770e-03, 8.17369141e-07, 9.95367050e-01],\n",
       "       [3.15589993e-03, 2.39785692e-07, 9.96843934e-01, 4.26113864e-08],\n",
       "       [8.90236814e-03, 2.29586954e-06, 9.91095304e-01, 1.01427368e-07],\n",
       "       [9.03112829e-01, 1.15793446e-04, 9.66398045e-02, 1.31530760e-04],\n",
       "       [9.99291778e-01, 6.19775310e-05, 6.34049706e-04, 1.21129833e-05],\n",
       "       [7.81260431e-03, 2.42950846e-04, 9.91897702e-01, 4.67540740e-05]],\n",
       "      dtype=float32)"
      ]
     },
     "execution_count": 19,
     "metadata": {},
     "output_type": "execute_result"
    }
   ],
   "source": [
    "y_pred"
   ]
  },
  {
   "cell_type": "code",
   "execution_count": 20,
   "id": "a2b99fc1",
   "metadata": {},
   "outputs": [],
   "source": [
    "import numpy as np\n",
    "y_pred = np.argmax(y_pred, axis=1)"
   ]
  },
  {
   "cell_type": "code",
   "execution_count": 21,
   "id": "247120a1",
   "metadata": {},
   "outputs": [],
   "source": [
    "from tensorflow.keras.models import load_model\n",
    "from tensorflow.keras.preprocessing import image\n",
    "model = load_model=('model_vgg16.h5')\n"
   ]
  },
  {
   "cell_type": "code",
   "execution_count": 23,
   "id": "bf8ded6b",
   "metadata": {},
   "outputs": [],
   "source": [
    "img=image.load_img('Cotton Disease/test/diseased cotton plant/dd (31)_iaip.jpg',target_size=(224,224))\n"
   ]
  },
  {
   "cell_type": "code",
   "execution_count": 24,
   "id": "16345218",
   "metadata": {},
   "outputs": [
    {
     "data": {
      "text/plain": [
       "array([[[ 74.,  78.,  51.],\n",
       "        [133., 123.,  98.],\n",
       "        [132., 114.,  90.],\n",
       "        ...,\n",
       "        [122., 105.,  61.],\n",
       "        [124., 110.,  65.],\n",
       "        [127., 112.,  71.]],\n",
       "\n",
       "       [[102.,  90.,  66.],\n",
       "        [ 99.,  83.,  58.],\n",
       "        [ 90.,  74.,  48.],\n",
       "        ...,\n",
       "        [151., 128.,  94.],\n",
       "        [145., 122.,  90.],\n",
       "        [138., 117.,  86.]],\n",
       "\n",
       "       [[126., 104.,  81.],\n",
       "        [125., 108.,  82.],\n",
       "        [103.,  94.,  63.],\n",
       "        ...,\n",
       "        [119.,  95.,  67.],\n",
       "        [129., 105.,  77.],\n",
       "        [100.,  76.,  52.]],\n",
       "\n",
       "       ...,\n",
       "\n",
       "       [[ 75., 123.,  61.],\n",
       "        [ 75., 123.,  61.],\n",
       "        [ 78., 126.,  64.],\n",
       "        ...,\n",
       "        [ 78., 127.,  46.],\n",
       "        [ 79., 131.,  49.],\n",
       "        [ 94., 149.,  66.]],\n",
       "\n",
       "       [[ 76., 124.,  62.],\n",
       "        [ 76., 124.,  62.],\n",
       "        [ 80., 128.,  66.],\n",
       "        ...,\n",
       "        [ 73., 122.,  41.],\n",
       "        [ 76., 128.,  46.],\n",
       "        [ 71., 126.,  43.]],\n",
       "\n",
       "       [[ 78., 126.,  64.],\n",
       "        [ 78., 126.,  64.],\n",
       "        [ 81., 129.,  67.],\n",
       "        ...,\n",
       "        [107., 159.,  77.],\n",
       "        [ 81., 133.,  51.],\n",
       "        [ 64., 116.,  34.]]], dtype=float32)"
      ]
     },
     "execution_count": 24,
     "metadata": {},
     "output_type": "execute_result"
    }
   ],
   "source": [
    "x=image.img_to_array(img)\n",
    "x"
   ]
  },
  {
   "cell_type": "code",
   "execution_count": 25,
   "id": "01d6c92e",
   "metadata": {},
   "outputs": [
    {
     "data": {
      "text/plain": [
       "(224, 224, 3)"
      ]
     },
     "execution_count": 25,
     "metadata": {},
     "output_type": "execute_result"
    }
   ],
   "source": [
    "x.shape"
   ]
  },
  {
   "cell_type": "code",
   "execution_count": 26,
   "id": "f5092928",
   "metadata": {},
   "outputs": [],
   "source": [
    "x = x/255"
   ]
  },
  {
   "cell_type": "code",
   "execution_count": null,
   "id": "03bf67f2",
   "metadata": {},
   "outputs": [],
   "source": []
  }
 ],
 "metadata": {
  "kernelspec": {
   "display_name": "Python 3",
   "language": "python",
   "name": "python3"
  },
  "language_info": {
   "codemirror_mode": {
    "name": "ipython",
    "version": 3
   },
   "file_extension": ".py",
   "mimetype": "text/x-python",
   "name": "python",
   "nbconvert_exporter": "python",
   "pygments_lexer": "ipython3",
   "version": "3.8.8"
  }
 },
 "nbformat": 4,
 "nbformat_minor": 5
}
